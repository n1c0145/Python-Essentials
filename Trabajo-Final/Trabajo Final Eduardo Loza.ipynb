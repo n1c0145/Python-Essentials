{
  "metadata": {
    "anaconda-cloud": {},
    "kernelspec": {
      "name": "python",
      "display_name": "Python (Pyodide)",
      "language": "python"
    },
    "language_info": {
      "codemirror_mode": {
        "name": "python",
        "version": 3
      },
      "file_extension": ".py",
      "mimetype": "text/x-python",
      "name": "python",
      "nbconvert_exporter": "python",
      "pygments_lexer": "ipython3",
      "version": "3.8"
    }
  },
  "nbformat_minor": 4,
  "nbformat": 4,
  "cells": [
    {
      "cell_type": "markdown",
      "source": "![Título](Images/cisco.png)",
      "metadata": {}
    },
    {
      "cell_type": "markdown",
      "source": "# Práctica de laboratorio: Realice el desafío de Python \n\n\nEste es un ejercicio opcional para probar su conocimiento de los principios básicos de Python. Sin embargo, recomendamos fervientemente que el estudiante complete estos ejercicios para prepararse para el resto de este curso. Si no sabe cómo resolverlos, fíjese en las lecciones de Python disponibles en la carpeta de Materiales del curso/tutoriales y demostraciones.",
      "metadata": {}
    },
    {
      "cell_type": "markdown",
      "source": "#### Responda las preguntas o complete las tareas detalladas a continuación; utilice el método específico descrito, si corresponde.",
      "metadata": {}
    },
    {
      "cell_type": "markdown",
      "source": "#### 1) ¿Cuánto es 3 a la potencia de 5?",
      "metadata": {}
    },
    {
      "cell_type": "code",
      "source": "3**5",
      "metadata": {
        "trusted": true
      },
      "execution_count": 3,
      "outputs": [
        {
          "execution_count": 3,
          "output_type": "execute_result",
          "data": {
            "text/plain": "243"
          },
          "metadata": {}
        }
      ]
    },
    {
      "cell_type": "markdown",
      "source": "#### 2) Cree una variable, *'s'*, que contenga la cadena \"¡Este curso es increíble!\". Con la variable, divida la cadena en una lista.",
      "metadata": {}
    },
    {
      "cell_type": "code",
      "source": "s = \"Este curso es increible!\"\nx = s.split(\", \")\nprint(x)",
      "metadata": {
        "trusted": true
      },
      "execution_count": 21,
      "outputs": [
        {
          "name": "stdout",
          "text": "['Este curso es increible!']\n",
          "output_type": "stream"
        }
      ]
    },
    {
      "cell_type": "markdown",
      "source": "#### 3) Dadas las variables altura y montaña, use .format() para imprimir la cadena siguiente:\n<center>‘La altura del Monte Everest es de 8848 metros’.</center>",
      "metadata": {}
    },
    {
      "cell_type": "code",
      "source": "mountain = \"Mt. Everest\"\nheight = 8848\n#print(\"...\".format( ? , ? ))\nprint(\"La altura del {0} es de {1} metros\".format(mountain,height))",
      "metadata": {
        "trusted": true
      },
      "execution_count": 39,
      "outputs": [
        {
          "name": "stdout",
          "text": "La altura del Mt. Everest es de 8848 metros\n",
          "output_type": "stream"
        }
      ]
    },
    {
      "cell_type": "markdown",
      "source": "#### 4) Dada la lista anidada siguiente, use la indexación para tomar la palabra '\"esto\"'.",
      "metadata": {}
    },
    {
      "cell_type": "code",
      "source": "lst = ['a','b',[4,10,11],['c',[1,66,['this']],2,111],'e',7]\nprint(lst[3][1][2][0])",
      "metadata": {
        "trusted": true
      },
      "execution_count": 25,
      "outputs": [
        {
          "name": "stdout",
          "text": "this\n",
          "output_type": "stream"
        }
      ]
    },
    {
      "cell_type": "markdown",
      "source": "#### 5) Dado el diccionario anidado siguiente, tome la palabra \"eso\". Este ejercicio es un poco más difícil.",
      "metadata": {}
    },
    {
      "cell_type": "code",
      "source": "d = {'k1':['val1','val2','val3',{'we':['need','to','go',{'deeper':[1,2,3,'that']}]}]}\nprint(d[\"k1\"][3]['we'][3]['deeper'][3])",
      "metadata": {
        "trusted": true
      },
      "execution_count": 37,
      "outputs": [
        {
          "name": "stdout",
          "text": "that\n",
          "output_type": "stream"
        }
      ]
    },
    {
      "cell_type": "markdown",
      "source": "#### 6) ¿Cuál es la diferencia principal entre una tupla y una lista? ",
      "metadata": {}
    },
    {
      "cell_type": "markdown",
      "source": "*Escriba su respuesta aquí*",
      "metadata": {}
    },
    {
      "cell_type": "markdown",
      "source": "#### 7) Cree una función, GetDomain(), que tome el dominio del sitio web de correo electrónico de una cadena en la forma: 'user@domain.com'.\nPor ejemplo, el paso de \"user@domain.com\" daría: domain.com",
      "metadata": {}
    },
    {
      "cell_type": "code",
      "source": "def GetDomain(correo):\n    return correo.split('@')[1]\nprint(GetDomain('user@domain.com'))",
      "metadata": {
        "trusted": true
      },
      "execution_count": 9,
      "outputs": [
        {
          "name": "stdout",
          "text": "domain.com\n",
          "output_type": "stream"
        }
      ]
    },
    {
      "cell_type": "markdown",
      "source": "#### 8) Cree una función básica, findInternet(), que dé una devolución de True si la palabra 'Internet' se incluye en la cadena de entrada. No se preocupe por los casos de perímetro como la puntuación que se asocia con la palabra, pero tenga en cuenta el uso de mayúsculas. (Sugerencia: vea https://docs.python.org/2/reference/expressions.html#in)",
      "metadata": {}
    },
    {
      "cell_type": "code",
      "source": "def findInternet(cadena):\n    return 'internet' in cadena.lower().split()\n\nprint(findInternet('The Internet Engineering Task Force was created in 1986'))",
      "metadata": {
        "trusted": true
      },
      "execution_count": 1,
      "outputs": [
        {
          "name": "stdout",
          "text": "True\n",
          "output_type": "stream"
        }
      ]
    },
    {
      "cell_type": "markdown",
      "source": "#### 9) Cree una función, countIoT(), que cuente la cantidad de veces que la palabra \"IdT\" aparece en una cadena.  Ignore los casos de perímetro pero tenga en cuenta el uso de mayúsculas.",
      "metadata": {}
    },
    {
      "cell_type": "code",
      "source": "def countIoT(st):\n    count = st.lower().count(\"iot\")\n    return count\n    \nprint(countIoT('I don\\'t know how to spell IoT ! Is it IoT or iot ? What does iot mean anyway?'))",
      "metadata": {
        "trusted": true
      },
      "execution_count": 25,
      "outputs": [
        {
          "name": "stdout",
          "text": "4\n",
          "output_type": "stream"
        }
      ]
    },
    {
      "cell_type": "markdown",
      "source": "#### 10) Utilice las expresiones lambda y la función filter() para filtrar las palabras de una lista que no comiencen con la letra 'd'. Por ejemplo:\n\n    sec = [“datos”, “sal”, “diario”, “gato”, “perro”]\n\ndebe ser filtrado a:\n\n    ['datos', 'diario']",
      "metadata": {}
    },
    {
      "cell_type": "code",
      "source": "# Code cell 9\nseq = ['data','salt' ,'dairy','cat', 'dog']\n\nprint(list(filter(lambda x: x[0].lower() in 'd', seq)))\n\n",
      "metadata": {
        "trusted": true
      },
      "execution_count": 10,
      "outputs": [
        {
          "name": "stdout",
          "text": "['data', 'dairy', 'dog']\n",
          "output_type": "stream"
        }
      ]
    },
    {
      "cell_type": "markdown",
      "source": "#### 11) Utilice las expresiones lambda y la función map() para convertir una lista de palabras a mayúsculas. Por ejemplo:",
      "metadata": {}
    },
    {
      "cell_type": "markdown",
      "source": "sec = [“datos”, “sal”, “diario”, “gato”, “perro”]\n\ndebe ser:\n\n   [“DATOS”, “SAL”, “DIARIO”, “GATO”, “PERRO”]",
      "metadata": {}
    },
    {
      "cell_type": "code",
      "source": "funcion = map(lambda x:x.upper(), [\"datos\", \"sal\", \"diario\", \"gato\", \"perro\"])\nx = list(funcion)\nprint(x)",
      "metadata": {
        "trusted": true
      },
      "execution_count": 23,
      "outputs": [
        {
          "name": "stdout",
          "text": "['DATOS', 'SAL', 'DIARIO', 'GATO', 'PERRO']\n",
          "output_type": "stream"
        }
      ]
    },
    {
      "cell_type": "markdown",
      "source": "#### 12) Imagine un termostato inteligente conectado a la puerta que pueda detectar, además de la temperatura, el momento en el que las personas entran o salen de la casa. \nEscriba una función que, cuando la temperatura sea inferior a 20 ºC y haya personas en la casa (codificado como valor booleano que se envía como parámetro a la función), inicie la calefacción mediante la devolución de la cadena \"calefacción encendida\". Cuando la temperatura llegue a 23 grados o no haya personas en la casa, la función devuelve la cadena \"calefacción apagada\". Cuando no se cumpla ninguna de estas condiciones, la función es \"No hacer nada\".",
      "metadata": {}
    },
    {
      "cell_type": "code",
      "source": "def smart_thermostat(temp, people_in):\n    if temp <= 20 and people_in == True:\n        return \"calefacción encendida\"\n    elif temp >= 23 or people_in == False:\n        return \"calefacción apagada\"\n    else:\n        return \"No hacer nada\"\n    \n\nsmart_thermostat(19,True)",
      "metadata": {
        "tags": [],
        "trusted": true
      },
      "execution_count": 27,
      "outputs": [
        {
          "execution_count": 27,
          "output_type": "execute_result",
          "data": {
            "text/plain": "'calefacción encendida'"
          },
          "metadata": {}
        }
      ]
    },
    {
      "cell_type": "markdown",
      "source": "#### 13) La función zip(list1, list2) devuelve una lista de tuplas, donde la tupla i-th contiene el elemento i-th de cada una de las listas de argumento. Utilice la función zip para crear la siguiente lista de tuplas:",
      "metadata": {}
    },
    {
      "cell_type": "markdown",
      "source": "'comprimido = [(“Estacionamiento”, -1), (“Negocios”, 0), (“Área de restaurantes”, 1), (“oficinas”, 2)]'",
      "metadata": {}
    },
    {
      "cell_type": "code",
      "source": "floor_types = ['Parking', 'Shops', 'Food Court', 'Offices']\nfloor_numbers = range(-1,3)\nzipped = list(zip(floor_types,floor_numbers))\nprint(zipped)",
      "metadata": {
        "trusted": true
      },
      "execution_count": 5,
      "outputs": [
        {
          "name": "stdout",
          "text": "[('Parking', -1), ('Shops', 0), ('Food Court', 1), ('Offices', 2)]\n",
          "output_type": "stream"
        }
      ]
    },
    {
      "cell_type": "markdown",
      "source": "#### 14) Utilice la función zip y dict() para crear un diccionario, elevator_dict, donde las teclas sean los tipos de piso y los valores sean el número correspondiente del piso, de modo que:\nelevator_dict[- 1] = “Estacionamiento”",
      "metadata": {}
    },
    {
      "cell_type": "code",
      "source": "floor_types = ['Parking', 'Shops', 'Food Court', 'Offices']\nfloors_numbers = range(-1,3)\nelevator_zip=list(zip(floor_types,floors_numbers))\nelevator_dict = dict(elevator_zip)\nprint(elevator_dict)\nprint(elevator_zip[-1])",
      "metadata": {
        "trusted": true
      },
      "execution_count": 11,
      "outputs": [
        {
          "name": "stdout",
          "text": "{'Parking': -1, 'Shops': 0, 'Food Court': 1, 'Offices': 2}\n('Offices', 2)\n",
          "output_type": "stream"
        }
      ]
    },
    {
      "cell_type": "markdown",
      "source": "#### 15) Cree una clase de 'Ascensor'. El constructor acepta la lista de cadenas 'floor_types' y la lista de números enteros 'floor_numbers'. La clase implementa los métodos 'ask_which_floor' y 'go_to_floor'. La salida de estos métodos debe verse de la siguiente manera:\n`floor_types = ['Estacionamiento', 'Negocios', 'Área de restaurantes', 'Oficinas']\nfloors_numbers = rango(-1,4)\n\nel = Elevador(floor_numbers, floor_types)\n\nel.go_to_floor(1)`\n\n`¡Vaya al piso del área de restaurantes!`\n\n`el.go_to_floor(-2)`\n\n`En este edificio está el piso número -2.`\n\n`El.ask_which_floor('Oficinas')`\n\n`El piso de oficinas es el número: 2`\n\n`El.ask_which_floor('Piscina')`\n\n`No hay ningún piso con piscina en este edificio.`",
      "metadata": {}
    },
    {
      "cell_type": "code",
      "source": "# Code cell 17\nclass Elevator:\n    \n    def __init__(self, floor_numbers, floor_types):\n        self._floor_numbers = floor_numbers\n        self._floor_types = floor_types\n        self._number_to_type_dict = dict(zip(floor_numbers, floor_types)) \n        self._type_to_number_dict = dict(zip(floor_types, floor_numbers)) \n        \n    def ask_which_floor(self, floor_type):    \n        if floor_type in self._floor_types:\n            print('The {} floor is the number: {}.'.format(floor_type, self._type_to_number_dict[floor_type]))\n        else:\n            print('There is no {} floor in this building.'.format(floor_type))\n    \n    def go_to_floor(self, floor_numbers):\n        if floor_numbers in self._floor_numbers:\n            print(\"En este edificio esta en el piso {}\".format(floor_numbers, self._type_to_number_dict[floor_numbers]))\n        else:\n            print(\"Este piso no existe\")\n            \n            \nel = Elevator(floor_numbers=1,floor_types='Gym')\nel.go_to_floor(1)\nel.ask_which_floor('Gym')\n",
      "metadata": {
        "tags": [],
        "trusted": true
      },
      "execution_count": 1,
      "outputs": []
    },
    {
      "cell_type": "markdown",
      "source": "# ¡Excelente trabajo!",
      "metadata": {}
    },
    {
      "cell_type": "markdown",
      "source": "<font size='0.5'>© 2017 Cisco y/o sus filiales. Todos los derechos reservados. Este documento es información pública de Cisco.<font>",
      "metadata": {}
    }
  ]
}